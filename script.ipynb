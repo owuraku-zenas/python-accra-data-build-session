{
 "cells": [
  {
   "cell_type": "markdown",
   "metadata": {},
   "source": [
    "# Primary School Grade Report"
   ]
  },
  {
   "cell_type": "code",
   "execution_count": null,
   "metadata": {},
   "outputs": [],
   "source": [
    "import pandas as pd\n",
    "import matplotlib.pyplot as plt\n",
    "import seaborn as sns"
   ]
  },
  {
   "cell_type": "markdown",
   "metadata": {},
   "source": [
    "## Read data"
   ]
  },
  {
   "cell_type": "code",
   "execution_count": null,
   "metadata": {},
   "outputs": [],
   "source": [
    "df = pd.read_csv('student_results.csv')\n",
    "\n",
    "df"
   ]
  },
  {
   "cell_type": "markdown",
   "metadata": {},
   "source": [
    "## Calculate the average scores"
   ]
  },
  {
   "cell_type": "code",
   "execution_count": null,
   "metadata": {},
   "outputs": [],
   "source": [
    "average_scores = df[['Math Score', 'Science Score', 'English Score', 'History Score']].mean()\n",
    "\n",
    "average_scores"
   ]
  },
  {
   "cell_type": "markdown",
   "metadata": {},
   "source": [
    "### Plot the average score by Subject"
   ]
  },
  {
   "cell_type": "code",
   "execution_count": null,
   "metadata": {},
   "outputs": [],
   "source": [
    "plt.figure(figsize=(10, 6))\n",
    "average_scores.plot(kind='bar', color='skyblue')\n",
    "plt.title('Average Scores by Subject')\n",
    "plt.ylabel('Average Score')\n",
    "plt.xlabel('Subject')\n",
    "plt.xticks(rotation=0)  # Rotate x labels for better readability\n",
    "plt.ylim(0, 100)  # Set y-axis limit\n",
    "plt.show()"
   ]
  },
  {
   "cell_type": "markdown",
   "metadata": {},
   "source": [
    "## Scores over time"
   ]
  },
  {
   "cell_type": "code",
   "execution_count": null,
   "metadata": {},
   "outputs": [],
   "source": [
    "# Convert Grade and Term to a single time variable (e.g., Year-Term)\n",
    "df['Time'] = df['Grade'].astype(str) + '-' + df['Term'].astype(str)\n",
    "\n",
    "# Sort by the new Time variable\n",
    "df.sort_values(by='Time', inplace=True)\n",
    "\n",
    "# Set the Time variable as the index\n",
    "df.set_index('Time', inplace=True)\n",
    "\n",
    "df"
   ]
  },
  {
   "cell_type": "markdown",
   "metadata": {},
   "source": [
    "### Plot Score"
   ]
  },
  {
   "cell_type": "code",
   "execution_count": null,
   "metadata": {},
   "outputs": [],
   "source": [
    "# Plot the scores over time\n",
    "plt.figure(figsize=(12, 8))\n",
    "plt.plot(df.index, df['Math Score'], marker='o', label='Math')\n",
    "plt.plot(df.index, df['Science Score'], marker='*', label='Science')\n",
    "plt.plot(df.index, df['English Score'], marker='', label='English')\n",
    "plt.plot(df.index, df['History Score'], marker='+', label='History')\n",
    "\n",
    "plt.title('Student Performance Over Time')\n",
    "plt.xlabel('Time (Grade-Term)')\n",
    "plt.ylabel('Scores')\n",
    "plt.ylim(65, 100)  # Set y-axis limit\n",
    "plt.legend()\n",
    "plt.xticks(rotation=45)  # Rotate x labels for better readability\n",
    "plt.tight_layout()\n",
    "\n",
    "# Save the plot to a file\n",
    "plt.show()"
   ]
  },
  {
   "cell_type": "markdown",
   "metadata": {},
   "source": [
    "## Performance Based on Study Habits"
   ]
  },
  {
   "cell_type": "code",
   "execution_count": null,
   "metadata": {},
   "outputs": [],
   "source": [
    "average_scores_by_study_hours = df.groupby('Study Hours per Week')[['Math Score', 'Science Score', 'English Score', 'History Score']].mean()\n",
    "\n",
    "average_scores_by_study_hours"
   ]
  },
  {
   "cell_type": "markdown",
   "metadata": {},
   "source": [
    "### Plot Performance Based on Study Habits"
   ]
  },
  {
   "cell_type": "code",
   "execution_count": null,
   "metadata": {},
   "outputs": [],
   "source": [
    "plt.figure(figsize=(10, 6))\n",
    "\n",
    "for subject in ['Math Score', 'Science Score', 'English Score', 'History Score']:\n",
    "    plt.plot(average_scores_by_study_hours.index, average_scores_by_study_hours[subject], marker='o', label=subject)\n",
    "\n",
    "plt.xlabel('Study Hours per Week')\n",
    "plt.ylabel('Average Score')\n",
    "plt.title('Average Scores by Study Hours per Week')\n",
    "plt.legend()\n",
    "plt.grid(True)\n",
    "plt.tight_layout()\n",
    "plt.show()"
   ]
  }
 ],
 "metadata": {
  "kernelspec": {
   "display_name": ".venv",
   "language": "python",
   "name": "python3"
  },
  "language_info": {
   "codemirror_mode": {
    "name": "ipython",
    "version": 3
   },
   "file_extension": ".py",
   "mimetype": "text/x-python",
   "name": "python",
   "nbconvert_exporter": "python",
   "pygments_lexer": "ipython3",
   "version": "3.12.3"
  }
 },
 "nbformat": 4,
 "nbformat_minor": 2
}
